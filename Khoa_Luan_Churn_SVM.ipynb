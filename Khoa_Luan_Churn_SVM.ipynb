{
 "cells": [
  {
   "cell_type": "code",
   "execution_count": 9,
   "metadata": {},
   "outputs": [],
   "source": [
    "import time\n",
    "import numpy as np\n",
    "import pandas as pd\n",
    "import matplotlib.pyplot as plt\n",
    "import seaborn as sns\n",
    "from sklearn.model_selection import train_test_split\n",
    "from sklearn.metrics import precision_score\n",
    "from sklearn.metrics import f1_score\n",
    "from sklearn.metrics import recall_score\n",
    "from sklearn.metrics import confusion_matrix,accuracy_score,roc_curve,classification_report"
   ]
  },
  {
   "cell_type": "code",
   "execution_count": 10,
   "metadata": {},
   "outputs": [],
   "source": [
    "start = time.time()"
   ]
  },
  {
   "cell_type": "code",
   "execution_count": 11,
   "metadata": {},
   "outputs": [],
   "source": [
    "df = pd.read_csv(\"du_lieu_chuan.csv\")"
   ]
  },
  {
   "cell_type": "code",
   "execution_count": 12,
   "metadata": {},
   "outputs": [
    {
     "data": {
      "text/html": [
       "<div>\n",
       "<style scoped>\n",
       "    .dataframe tbody tr th:only-of-type {\n",
       "        vertical-align: middle;\n",
       "    }\n",
       "\n",
       "    .dataframe tbody tr th {\n",
       "        vertical-align: top;\n",
       "    }\n",
       "\n",
       "    .dataframe thead th {\n",
       "        text-align: right;\n",
       "    }\n",
       "</style>\n",
       "<table border=\"1\" class=\"dataframe\">\n",
       "  <thead>\n",
       "    <tr style=\"text-align: right;\">\n",
       "      <th></th>\n",
       "      <th>Unnamed: 0</th>\n",
       "      <th>customerID</th>\n",
       "      <th>gender</th>\n",
       "      <th>SeniorCitizen</th>\n",
       "      <th>Partner</th>\n",
       "      <th>Dependents</th>\n",
       "      <th>tenure</th>\n",
       "      <th>PhoneService</th>\n",
       "      <th>MultipleLines</th>\n",
       "      <th>InternetService</th>\n",
       "      <th>...</th>\n",
       "      <th>DeviceProtection</th>\n",
       "      <th>TechSupport</th>\n",
       "      <th>StreamingTV</th>\n",
       "      <th>StreamingMovies</th>\n",
       "      <th>Contract</th>\n",
       "      <th>PaperlessBilling</th>\n",
       "      <th>PaymentMethod</th>\n",
       "      <th>MonthlyCharges</th>\n",
       "      <th>TotalCharges</th>\n",
       "      <th>Churn</th>\n",
       "    </tr>\n",
       "  </thead>\n",
       "  <tbody>\n",
       "    <tr>\n",
       "      <th>0</th>\n",
       "      <td>0</td>\n",
       "      <td>7590-VHVEG</td>\n",
       "      <td>0</td>\n",
       "      <td>0</td>\n",
       "      <td>1</td>\n",
       "      <td>0</td>\n",
       "      <td>1</td>\n",
       "      <td>0</td>\n",
       "      <td>2</td>\n",
       "      <td>1</td>\n",
       "      <td>...</td>\n",
       "      <td>0</td>\n",
       "      <td>0</td>\n",
       "      <td>0</td>\n",
       "      <td>0</td>\n",
       "      <td>0</td>\n",
       "      <td>1</td>\n",
       "      <td>0</td>\n",
       "      <td>29.85</td>\n",
       "      <td>29.85</td>\n",
       "      <td>0</td>\n",
       "    </tr>\n",
       "    <tr>\n",
       "      <th>1</th>\n",
       "      <td>1</td>\n",
       "      <td>5575-GNVDE</td>\n",
       "      <td>1</td>\n",
       "      <td>0</td>\n",
       "      <td>0</td>\n",
       "      <td>0</td>\n",
       "      <td>34</td>\n",
       "      <td>1</td>\n",
       "      <td>0</td>\n",
       "      <td>1</td>\n",
       "      <td>...</td>\n",
       "      <td>1</td>\n",
       "      <td>0</td>\n",
       "      <td>0</td>\n",
       "      <td>0</td>\n",
       "      <td>1</td>\n",
       "      <td>0</td>\n",
       "      <td>1</td>\n",
       "      <td>56.95</td>\n",
       "      <td>1889.50</td>\n",
       "      <td>0</td>\n",
       "    </tr>\n",
       "    <tr>\n",
       "      <th>2</th>\n",
       "      <td>2</td>\n",
       "      <td>3668-QPYBK</td>\n",
       "      <td>1</td>\n",
       "      <td>0</td>\n",
       "      <td>0</td>\n",
       "      <td>0</td>\n",
       "      <td>2</td>\n",
       "      <td>1</td>\n",
       "      <td>0</td>\n",
       "      <td>1</td>\n",
       "      <td>...</td>\n",
       "      <td>0</td>\n",
       "      <td>0</td>\n",
       "      <td>0</td>\n",
       "      <td>0</td>\n",
       "      <td>0</td>\n",
       "      <td>1</td>\n",
       "      <td>1</td>\n",
       "      <td>53.85</td>\n",
       "      <td>108.15</td>\n",
       "      <td>1</td>\n",
       "    </tr>\n",
       "    <tr>\n",
       "      <th>3</th>\n",
       "      <td>3</td>\n",
       "      <td>7795-CFOCW</td>\n",
       "      <td>1</td>\n",
       "      <td>0</td>\n",
       "      <td>0</td>\n",
       "      <td>0</td>\n",
       "      <td>45</td>\n",
       "      <td>0</td>\n",
       "      <td>2</td>\n",
       "      <td>1</td>\n",
       "      <td>...</td>\n",
       "      <td>1</td>\n",
       "      <td>1</td>\n",
       "      <td>0</td>\n",
       "      <td>0</td>\n",
       "      <td>1</td>\n",
       "      <td>0</td>\n",
       "      <td>2</td>\n",
       "      <td>42.30</td>\n",
       "      <td>1840.75</td>\n",
       "      <td>0</td>\n",
       "    </tr>\n",
       "    <tr>\n",
       "      <th>4</th>\n",
       "      <td>4</td>\n",
       "      <td>9237-HQITU</td>\n",
       "      <td>0</td>\n",
       "      <td>0</td>\n",
       "      <td>0</td>\n",
       "      <td>0</td>\n",
       "      <td>2</td>\n",
       "      <td>1</td>\n",
       "      <td>0</td>\n",
       "      <td>2</td>\n",
       "      <td>...</td>\n",
       "      <td>0</td>\n",
       "      <td>0</td>\n",
       "      <td>0</td>\n",
       "      <td>0</td>\n",
       "      <td>0</td>\n",
       "      <td>1</td>\n",
       "      <td>0</td>\n",
       "      <td>70.70</td>\n",
       "      <td>151.65</td>\n",
       "      <td>1</td>\n",
       "    </tr>\n",
       "  </tbody>\n",
       "</table>\n",
       "<p>5 rows × 22 columns</p>\n",
       "</div>"
      ],
      "text/plain": [
       "   Unnamed: 0  customerID  gender  SeniorCitizen  Partner  Dependents  tenure  \\\n",
       "0           0  7590-VHVEG       0              0        1           0       1   \n",
       "1           1  5575-GNVDE       1              0        0           0      34   \n",
       "2           2  3668-QPYBK       1              0        0           0       2   \n",
       "3           3  7795-CFOCW       1              0        0           0      45   \n",
       "4           4  9237-HQITU       0              0        0           0       2   \n",
       "\n",
       "   PhoneService  MultipleLines  InternetService  ...  DeviceProtection  \\\n",
       "0             0              2                1  ...                 0   \n",
       "1             1              0                1  ...                 1   \n",
       "2             1              0                1  ...                 0   \n",
       "3             0              2                1  ...                 1   \n",
       "4             1              0                2  ...                 0   \n",
       "\n",
       "   TechSupport  StreamingTV  StreamingMovies  Contract  PaperlessBilling  \\\n",
       "0            0            0                0         0                 1   \n",
       "1            0            0                0         1                 0   \n",
       "2            0            0                0         0                 1   \n",
       "3            1            0                0         1                 0   \n",
       "4            0            0                0         0                 1   \n",
       "\n",
       "   PaymentMethod  MonthlyCharges  TotalCharges  Churn  \n",
       "0              0           29.85         29.85      0  \n",
       "1              1           56.95       1889.50      0  \n",
       "2              1           53.85        108.15      1  \n",
       "3              2           42.30       1840.75      0  \n",
       "4              0           70.70        151.65      1  \n",
       "\n",
       "[5 rows x 22 columns]"
      ]
     },
     "execution_count": 12,
     "metadata": {},
     "output_type": "execute_result"
    }
   ],
   "source": [
    "df.head()"
   ]
  },
  {
   "cell_type": "code",
   "execution_count": 13,
   "metadata": {},
   "outputs": [],
   "source": [
    "df.drop('customerID', axis=1, inplace=True)\n",
    "df.drop('Unnamed: 0', axis=1, inplace=True)"
   ]
  },
  {
   "cell_type": "code",
   "execution_count": 14,
   "metadata": {},
   "outputs": [],
   "source": [
    "X = df.drop(\"Churn\", axis=1)\n",
    "y = df[\"Churn\"]"
   ]
  },
  {
   "cell_type": "code",
   "execution_count": 15,
   "metadata": {},
   "outputs": [
    {
     "name": "stdout",
     "output_type": "stream",
     "text": [
      "Number transactions X_train dataset:  (4922, 19)\n",
      "Number transactions y_train dataset:  (4922,)\n",
      "Number transactions X_test dataset:  (2110, 19)\n",
      "Number transactions y_test dataset:  (2110,)\n"
     ]
    }
   ],
   "source": [
    "X_train, X_test, y_train, y_test = train_test_split(X, y, test_size=0.3, random_state=0)\n",
    "\n",
    "print(\"Number transactions X_train dataset: \", X_train.shape)\n",
    "print(\"Number transactions y_train dataset: \", y_train.shape)\n",
    "print(\"Number transactions X_test dataset: \", X_test.shape)\n",
    "print(\"Number transactions y_test dataset: \", y_test.shape)"
   ]
  },
  {
   "cell_type": "code",
   "execution_count": 16,
   "metadata": {},
   "outputs": [
    {
     "data": {
      "text/plain": [
       "SVC(C=1.0, cache_size=200, class_weight=None, coef0=0.0,\n",
       "    decision_function_shape='ovr', degree=3, gamma=0.01, kernel='rbf',\n",
       "    max_iter=-1, probability=False, random_state=42, shrinking=True, tol=0.001,\n",
       "    verbose=False)"
      ]
     },
     "execution_count": 16,
     "metadata": {},
     "output_type": "execute_result"
    }
   ],
   "source": [
    "from sklearn.svm import SVC\n",
    "clf_svm = SVC(C=1.0, cache_size=200, class_weight=None, coef0=0.0,\n",
    "    decision_function_shape='ovr', degree=3, gamma=0.01,\n",
    "    kernel='rbf', max_iter=-1, probability=False, random_state=42,\n",
    "    shrinking=True, tol=0.001, verbose=False)\n",
    "clf_svm"
   ]
  },
  {
   "cell_type": "code",
   "execution_count": 17,
   "metadata": {
    "scrolled": true
   },
   "outputs": [
    {
     "name": "stdout",
     "output_type": "stream",
     "text": [
      "Fold 1 precision: 0.6470588235294118\n",
      "Fold 1 recall: 0.39896373056994816\n",
      "Fold 1 f1: 0.4935897435897436\n",
      "Fold 1 accuracy: 0.7755681818181818\n",
      "Fold 2 precision: 0.5950413223140496\n",
      "Fold 2 recall: 0.3956043956043956\n",
      "Fold 2 f1: 0.4752475247524752\n",
      "Fold 2 accuracy: 0.7741477272727273\n",
      "Fold 3 precision: 0.6178861788617886\n",
      "Fold 3 recall: 0.40641711229946526\n",
      "Fold 3 f1: 0.4903225806451613\n",
      "Fold 3 accuracy: 0.7752489331436699\n",
      "Fold 4 precision: 0.584\n",
      "Fold 4 recall: 0.42441860465116277\n",
      "Fold 4 f1: 0.49158249158249157\n",
      "Fold 4 accuracy: 0.7852062588904695\n",
      "Fold 5 precision: 0.664\n",
      "Fold 5 recall: 0.39712918660287083\n",
      "Fold 5 f1: 0.4970059880239521\n",
      "Fold 5 accuracy: 0.7610241820768137\n",
      "Fold 6 precision: 0.5966386554621849\n",
      "Fold 6 recall: 0.3837837837837838\n",
      "Fold 6 f1: 0.46710526315789475\n",
      "Fold 6 accuracy: 0.7695590327169275\n",
      "Fold 7 precision: 0.6460176991150443\n",
      "Fold 7 recall: 0.4319526627218935\n",
      "Fold 7 f1: 0.5177304964539007\n",
      "Fold 7 accuracy: 0.8065433854907539\n",
      "Fold 8 precision: 0.6203703703703703\n",
      "Fold 8 recall: 0.36813186813186816\n",
      "Fold 8 f1: 0.46206896551724136\n",
      "Fold 8 accuracy: 0.7780938833570412\n",
      "Fold 9 precision: 0.6384615384615384\n",
      "Fold 9 recall: 0.3915094339622642\n",
      "Fold 9 f1: 0.4853801169590643\n",
      "Fold 9 accuracy: 0.7496443812233285\n",
      "Fold 10 precision: 0.625\n",
      "Fold 10 recall: 0.39325842696629215\n",
      "Fold 10 f1: 0.4827586206896552\n",
      "Fold 10 accuracy: 0.786628733997155\n",
      "Mean precision: 0.6234474588114388\n",
      "Mean recall: 0.3991169205293944\n",
      "Mean f1: 0.48627917913715796\n",
      "Mean Accuracy: 0.7761664699987068\n"
     ]
    }
   ],
   "source": [
    "from sklearn.model_selection import KFold\n",
    "def run_kfold(clf_svm):\n",
    "    kf = KFold(n_splits =10, random_state =42, shuffle = True)\n",
    "    outcomes1 = []\n",
    "    outcomes2 = []\n",
    "    outcomes3 = []\n",
    "    outcomes4 = []\n",
    "    fold = 0\n",
    "    for train_index, test_index in  kf.split(df):\n",
    "        fold += 1\n",
    "        X_train, X_test = X.iloc[train_index], X.iloc[test_index]\n",
    "        y_train, y_test = y[train_index], y[test_index]\n",
    "        clf_svm.fit(X_train, y_train)\n",
    "        Yhat_test = clf_svm.predict(X_test)\n",
    "        precision = precision_score(y_test, Yhat_test)\n",
    "        recall = recall_score(y_test, Yhat_test)\n",
    "        f1 = f1_score(y_test, Yhat_test)\n",
    "        accuracy = accuracy_score(y_test, Yhat_test)\n",
    "        outcomes1.append(precision)\n",
    "        outcomes2.append(recall)\n",
    "        outcomes3.append(f1)\n",
    "        outcomes4.append(accuracy)\n",
    "        print(\"Fold {0} precision: {1}\".format(fold, precision))\n",
    "        print(\"Fold {0} recall: {1}\".format(fold, recall))\n",
    "        print(\"Fold {0} f1: {1}\".format(fold, f1))\n",
    "        print(\"Fold {0} accuracy: {1}\".format(fold, accuracy))\n",
    "    mean_outcome1 = np.mean(outcomes1)\n",
    "    mean_outcome2 = np.mean(outcomes2)\n",
    "    mean_outcome3 = np.mean(outcomes3)    \n",
    "    mean_outcome4 = np.mean(outcomes4)\n",
    "    print(\"Mean precision: {0}\".format(mean_outcome1))\n",
    "    print(\"Mean recall: {0}\".format(mean_outcome2))\n",
    "    print(\"Mean f1: {0}\".format(mean_outcome3))\n",
    "    print(\"Mean Accuracy: {0}\".format(mean_outcome4)) \n",
    "run_kfold(clf_svm)"
   ]
  },
  {
   "cell_type": "code",
   "execution_count": 18,
   "metadata": {},
   "outputs": [],
   "source": [
    "end = time.time()"
   ]
  },
  {
   "cell_type": "code",
   "execution_count": 19,
   "metadata": {},
   "outputs": [
    {
     "name": "stdout",
     "output_type": "stream",
     "text": [
      "30.522552013397217\n"
     ]
    }
   ],
   "source": [
    "print(end - start)"
   ]
  }
 ],
 "metadata": {
  "kernelspec": {
   "display_name": "Python 3",
   "language": "python",
   "name": "python3"
  },
  "language_info": {
   "codemirror_mode": {
    "name": "ipython",
    "version": 3
   },
   "file_extension": ".py",
   "mimetype": "text/x-python",
   "name": "python",
   "nbconvert_exporter": "python",
   "pygments_lexer": "ipython3",
   "version": "3.7.3"
  }
 },
 "nbformat": 4,
 "nbformat_minor": 2
}
